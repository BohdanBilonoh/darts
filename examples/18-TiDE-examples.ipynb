{
 "cells": [
  {
   "cell_type": "markdown",
   "metadata": {},
   "source": [
    "# TimeSeries Deep Encoder\n",
    "This notebook walks through how to use Darts' `TiDEModel` and benchmarks it against `NHiTSModel`.\n",
    "\n",
    "TiDE (Time-series Dense Encoder) is a pure DL encoder-decoder architecture. It is special in that the temporal decoder can help mitigate the effects of anomalous samples on a forecast (Fig. 4 in the paper).\n",
    "\n",
    "See the original paper and model description here: [http://arxiv.org/abs/2304.08424](http://arxiv.org/abs/2304.08424)."
   ]
  },
  {
   "metadata": {
    "ExecuteTime": {
     "end_time": "2024-05-02T19:46:32.640233Z",
     "start_time": "2024-05-02T19:46:32.638139Z"
    }
   },
   "cell_type": "code",
   "source": [
    "import os\n",
    "\n",
    "os.environ[\"PYTORCH_ENABLE_MPS_FALLBACK\"] = \"1\""
   ],
   "outputs": [],
   "execution_count": 1
  },
  {
   "cell_type": "code",
   "metadata": {
    "ExecuteTime": {
     "end_time": "2024-05-02T19:46:36.624196Z",
     "start_time": "2024-05-02T19:46:35.869305Z"
    }
   },
   "source": [
    "# fix python path if working locally\n",
    "from utils import fix_pythonpath_if_working_locally\n",
    "\n",
    "fix_pythonpath_if_working_locally()\n",
    "%matplotlib inline"
   ],
   "outputs": [],
   "execution_count": 2
  },
  {
   "cell_type": "code",
   "metadata": {
    "ExecuteTime": {
     "end_time": "2024-05-02T19:46:37.026698Z",
     "start_time": "2024-05-02T19:46:37.009891Z"
    }
   },
   "source": [
    "%load_ext autoreload\n",
    "%autoreload 2\n",
    "%matplotlib inline"
   ],
   "outputs": [],
   "execution_count": 3
  },
  {
   "cell_type": "code",
   "metadata": {
    "ExecuteTime": {
     "end_time": "2024-05-02T19:46:42.308788Z",
     "start_time": "2024-05-02T19:46:37.584746Z"
    }
   },
   "source": [
    "import torch\n",
    "import numpy as np\n",
    "import pandas as pd\n",
    "import shutil\n",
    "\n",
    "from darts.models import NHiTSModel, TiDEModel\n",
    "from darts.datasets import AusBeerDataset\n",
    "from darts.dataprocessing.transformers.scaler import Scaler\n",
    "from pytorch_lightning.callbacks.early_stopping import EarlyStopping\n",
    "from darts.metrics import mae, mse\n",
    "\n",
    "import matplotlib.pyplot as plt\n",
    "\n",
    "import warnings\n",
    "\n",
    "warnings.filterwarnings(\"ignore\")\n",
    "import logging\n",
    "\n",
    "logging.disable(logging.CRITICAL)"
   ],
   "outputs": [
    {
     "name": "stderr",
     "output_type": "stream",
     "text": [
      "/opt/homebrew/Caskroom/miniforge/base/envs/darts-dev/lib/python3.11/site-packages/statsforecast/utils.py:237: FutureWarning: 'M' is deprecated and will be removed in a future version, please use 'ME' instead.\n",
      "  \"ds\": pd.date_range(start=\"1949-01-01\", periods=len(AirPassengers), freq=\"M\"),\n"
     ]
    }
   ],
   "execution_count": 4
  },
  {
   "cell_type": "markdown",
   "metadata": {},
   "source": [
    "# Model Parameter Setup\n",
    "Boilerplate code is no fun, especially in the context of training multiple models to compare performance. To avoid this, we use a common configuration that can be used with any Darts `TorchForecastingModel`.\n",
    "\n",
    "A few interesting things about these parameters:\n",
    "\n",
    "- **Gradient clipping:** Mitigates exploding gradients during backpropagation by setting an upper limit on the gradient for a batch.\n",
    "\n",
    "- **Learning rate:** The majority of the learning done by a model is in the earlier epochs. As training goes on it is often helpful to reduce the learning rate to fine-tune the model. That being said, it can also lead to significant overfitting.\n",
    "\n",
    "- **Early stopping:** To avoid overfitting, we can use early stopping. It monitors a metric on the validation set and stops training once the metric is not improving anymore based on a custom condition."
   ]
  },
  {
   "cell_type": "code",
   "metadata": {
    "ExecuteTime": {
     "end_time": "2024-05-02T19:46:42.341200Z",
     "start_time": "2024-05-02T19:46:42.310052Z"
    }
   },
   "source": [
    "optimizer_kwargs = {\n",
    "    \"lr\": 1e-3,\n",
    "}\n",
    "\n",
    "# PyTorch Lightning Trainer arguments\n",
    "pl_trainer_kwargs = {\n",
    "    \"gradient_clip_val\": 1,\n",
    "    \"max_epochs\": 200,\n",
    "    \"accelerator\": \"auto\",\n",
    "    \"callbacks\": [],\n",
    "    \"precision\": \"32-true\",\n",
    "}\n",
    "\n",
    "# learning rate scheduler\n",
    "lr_scheduler_cls = torch.optim.lr_scheduler.ExponentialLR\n",
    "lr_scheduler_kwargs = {\n",
    "    \"gamma\": 0.999,\n",
    "}\n",
    "\n",
    "# early stopping (needs to be reset for each model later on)\n",
    "# this setting stops training once the the validation loss has not decreased by more than 1e-3 for 10 epochs\n",
    "early_stopping_args = {\n",
    "    \"monitor\": \"val_loss\",\n",
    "    \"patience\": 10,\n",
    "    \"min_delta\": 1e-3,\n",
    "    \"mode\": \"min\",\n",
    "}\n",
    "\n",
    "#\n",
    "common_model_args = {\n",
    "    \"input_chunk_length\": 12,  # lookback window\n",
    "    \"output_chunk_length\": 12,  # forecast/lookahead window\n",
    "    \"optimizer_kwargs\": optimizer_kwargs,\n",
    "    \"pl_trainer_kwargs\": pl_trainer_kwargs,\n",
    "    \"lr_scheduler_cls\": lr_scheduler_cls,\n",
    "    \"lr_scheduler_kwargs\": lr_scheduler_kwargs,\n",
    "    \"likelihood\": None,  # use a likelihood for probabilistic forecasts\n",
    "    \"save_checkpoints\": True,  # checkpoint to retrieve the best performing model state,\n",
    "    \"force_reset\": True,\n",
    "    \"batch_size\": 256,\n",
    "    \"random_state\": 42,\n",
    "}"
   ],
   "outputs": [],
   "execution_count": 5
  },
  {
   "cell_type": "markdown",
   "metadata": {},
   "source": [
    "# Data Loading and preparation\n",
    "We consider the Australian quarterly beer sales in megaliters. \n",
    "\n",
    "Before training, we split the data into train, validation, and test sets. The model will learn from the train set, use the validation set to determine when to stop training, and finally be evaluated on the test set.\n",
    "\n",
    "To avoid leaking information from the validation and test sets, we scale the data based on the properties of the train set."
   ]
  },
  {
   "cell_type": "code",
   "metadata": {
    "ExecuteTime": {
     "end_time": "2024-05-02T19:46:42.386098Z",
     "start_time": "2024-05-02T19:46:42.342670Z"
    }
   },
   "source": [
    "series = AusBeerDataset().load()\n",
    "\n",
    "train, temp = series.split_after(0.6)\n",
    "val, test = temp.split_after(0.5)"
   ],
   "outputs": [],
   "execution_count": 6
  },
  {
   "cell_type": "code",
   "metadata": {
    "ExecuteTime": {
     "end_time": "2024-05-02T19:46:42.772715Z",
     "start_time": "2024-05-02T19:46:42.388399Z"
    }
   },
   "source": [
    "train.plot(label=\"train\")\n",
    "val.plot(label=\"val\")\n",
    "test.plot(label=\"test\")"
   ],
   "outputs": [
    {
     "data": {
      "text/plain": [
       "<Axes: xlabel='date'>"
      ]
     },
     "execution_count": 7,
     "metadata": {},
     "output_type": "execute_result"
    },
    {
     "data": {
      "text/plain": [
       "<Figure size 640x480 with 1 Axes>"
      ],
      "image/png": "[encoded data removed]"
     },
     "metadata": {},
     "output_type": "display_data"
    }
   ],
   "execution_count": 7
  },
  {
   "cell_type": "code",
   "metadata": {
    "ExecuteTime": {
     "end_time": "2024-05-02T19:46:42.806683Z",
     "start_time": "2024-05-02T19:46:42.773566Z"
    }
   },
   "source": [
    "scaler = Scaler()  # default uses sklearn's MinMaxScaler\n",
    "train = scaler.fit_transform(train)\n",
    "val = scaler.transform(val)\n",
    "test = scaler.transform(test)"
   ],
   "outputs": [],
   "execution_count": 8
  },
  {
   "cell_type": "markdown",
   "metadata": {},
   "source": [
    "# Model configuration\n",
    "Using the already established shared arguments, we can see that the default parameters for NHiTS and TiDE are used. The only exception is that TiDE is tested both with and without [Reversible Instance Normalization](https://openreview.net/forum?id=cGDAkQo1C0p).\n",
    "\n",
    "We then iterate through the model dictionary and train all of the models. When using early stopping it is important to save checkpoints. This allows us to continue past the best model configuration and then restore the optimal weights once training has been completed."
   ]
  },
  {
   "cell_type": "code",
   "metadata": {
    "ExecuteTime": {
     "end_time": "2024-05-02T19:46:42.844406Z",
     "start_time": "2024-05-02T19:46:42.807540Z"
    }
   },
   "source": [
    "# create the models\n",
    "model_nhits = NHiTSModel(**common_model_args, model_name=\"hi\")\n",
    "\n",
    "model_tide = TiDEModel(\n",
    "    **common_model_args, use_reversible_instance_norm=False, model_name=\"tide0\"\n",
    ")\n",
    "\n",
    "model_tide_rin = TiDEModel(\n",
    "    **common_model_args, use_reversible_instance_norm=True, model_name=\"tide1\"\n",
    ")\n",
    "\n",
    "models = {\n",
    "    \"NHiTS\": model_nhits,\n",
    "    \"TiDE\": model_tide,\n",
    "    \"TiDE+RIN\": model_tide_rin,\n",
    "}"
   ],
   "outputs": [],
   "execution_count": 9
  },
  {
   "cell_type": "code",
   "metadata": {},
   "source": [
    "# train the models and load the model from its best state/checkpoint\n",
    "for name, model in models.items():\n",
    "\n",
    "    # early stopping needs to get reset for each model\n",
    "    pl_trainer_kwargs[\"callbacks\"] = [\n",
    "        EarlyStopping(\n",
    "            **early_stopping_args,\n",
    "        )\n",
    "    ]\n",
    "\n",
    "    model.fit(\n",
    "        series=train,\n",
    "        val_series=val,\n",
    "        verbose=True,\n",
    "    )\n",
    "    # load from checkpoint returns a new model object, we store it in the models dict\n",
    "    models[name] = model.load_from_checkpoint(model_name=model.model_name, best=True)"
   ],
   "outputs": [],
   "execution_count": null
  },
  {
   "cell_type": "code",
   "metadata": {},
   "source": [
    "# we will predict the next `pred_steps` points after the end of `pred_input`\n",
    "pred_steps = common_model_args[\"output_chunk_length\"] * 2\n",
    "pred_input = test[:-pred_steps]\n",
    "pred_input = pred_input.astype(np.float32)\n",
    "\n",
    "fig, ax = plt.subplots(figsize=(15, 5))\n",
    "pred_input.plot(label=\"input\")\n",
    "test[-pred_steps:].plot(label=\"ground truth\", ax=ax)"
   ],
   "outputs": [],
   "execution_count": null
  },
  {
   "metadata": {},
   "cell_type": "code",
   "source": [
    "result_accumulator = {}\n",
    "# predict with each model and compute/store the metrics against the test sets\n",
    "for model_name, model in models.items():\n",
    "    pred_series = model.predict(n=pred_steps, series=pred_input)\n",
    "    pred_series.plot(label=model_name, ax=ax)\n",
    "\n",
    "    result_accumulator[model_name] = {\n",
    "        \"mae\": mae(test, pred_series),\n",
    "        \"mse\": mse(test, pred_series),\n",
    "    }"
   ],
   "outputs": [],
   "execution_count": null
  },
  {
   "cell_type": "markdown",
   "metadata": {},
   "source": [
    "# Results\n",
    "In this case, vanilla TiDE is similarly accurate as NHiTs. Including reversible instance normalization (`RINorm`) drastically helped to improve the TiDE forecasts (Keep in mind that this is just an example, and it is not always guaranteed to improve performance)."
   ]
  },
  {
   "metadata": {},
   "cell_type": "code",
   "source": [
    "results_df = pd.DataFrame.from_dict(result_accumulator, orient=\"index\")\n",
    "results_df.plot.bar()"
   ],
   "outputs": [],
   "execution_count": null
  },
  {
   "cell_type": "code",
   "metadata": {},
   "source": [
    "results_df = pd.DataFrame.from_dict(result_accumulator, orient=\"index\")\n",
    "results_df.plot.bar()"
   ],
   "outputs": [],
   "execution_count": null
  },
  {
   "metadata": {},
   "cell_type": "markdown",
   "source": "# Torch compile"
  },
  {
   "metadata": {
    "ExecuteTime": {
     "end_time": "2024-05-02T19:55:24.032804Z",
     "start_time": "2024-05-02T19:55:23.963107Z"
    }
   },
   "cell_type": "code",
   "source": [
    "optimizer_kwargs = {\n",
    "    \"lr\": 1e-3,\n",
    "}\n",
    "\n",
    "# PyTorch Lightning Trainer arguments\n",
    "pl_trainer_kwargs = {\n",
    "    \"gradient_clip_val\": 1,\n",
    "    \"max_epochs\": 200,\n",
    "    \"accelerator\": \"auto\",\n",
    "    \"callbacks\": [],\n",
    "    \"precision\": \"32-true\",\n",
    "}\n",
    "\n",
    "# learning rate scheduler\n",
    "lr_scheduler_cls = torch.optim.lr_scheduler.ExponentialLR\n",
    "lr_scheduler_kwargs = {\n",
    "    \"gamma\": 0.999,\n",
    "}\n",
    "\n",
    "# early stopping (needs to be reset for each model later on)\n",
    "# this setting stops training once the the validation loss has not decreased by more than 1e-3 for 10 epochs\n",
    "early_stopping_args = {\n",
    "    \"monitor\": \"val_loss\",\n",
    "    \"patience\": 10,\n",
    "    \"min_delta\": 1e-3,\n",
    "    \"mode\": \"min\",\n",
    "}\n",
    "\n",
    "#\n",
    "common_model_args = {\n",
    "    \"input_chunk_length\": 12,  # lookback window\n",
    "    \"output_chunk_length\": 12,  # forecast/lookahead window\n",
    "    \"optimizer_kwargs\": optimizer_kwargs,\n",
    "    \"pl_trainer_kwargs\": pl_trainer_kwargs,\n",
    "    \"lr_scheduler_cls\": lr_scheduler_cls,\n",
    "    \"lr_scheduler_kwargs\": lr_scheduler_kwargs,\n",
    "    \"likelihood\": None,  # use a likelihood for probabilistic forecasts\n",
    "    \"save_checkpoints\": True,  # checkpoint to retrieve the best performing model state,\n",
    "    \"force_reset\": True,\n",
    "    \"batch_size\": 8,\n",
    "    \"random_state\": 42,\n",
    "    \"num_encoder_layers\": 8,\n",
    "    \"num_decoder_layers\": 8,\n",
    "    \"decoder_output_dim\": 64,\n",
    "    \"hidden_size\": 1024,\n",
    "}"
   ],
   "outputs": [],
   "execution_count": 51
  },
  {
   "metadata": {
    "ExecuteTime": {
     "end_time": "2024-05-02T19:55:24.547001Z",
     "start_time": "2024-05-02T19:55:24.509440Z"
    }
   },
   "cell_type": "code",
   "source": [
    "train = train.astype(np.float32)\n",
    "val = val.astype(np.float32)"
   ],
   "outputs": [],
   "execution_count": 52
  },
  {
   "metadata": {
    "ExecuteTime": {
     "end_time": "2024-05-02T19:55:25.040703Z",
     "start_time": "2024-05-02T19:55:25.004787Z"
    }
   },
   "cell_type": "code",
   "source": [
    "common_model_args[\"pl_trainer_kwargs\"][\"max_epochs\"] = 10"
   ],
   "outputs": [],
   "execution_count": 53
  },
  {
   "metadata": {
    "ExecuteTime": {
     "end_time": "2024-05-02T19:55:25.748180Z",
     "start_time": "2024-05-02T19:55:25.557453Z"
    }
   },
   "cell_type": "code",
   "source": [
    "model_tide_compiled = TiDEModel(\n",
    "    **common_model_args,\n",
    "    use_reversible_instance_norm=True,\n",
    "    model_name=\"tide_compiled\",\n",
    "    compile_model=True,\n",
    "    compile_model_kwargs={\n",
    "        \"backend\": \"aot_eager\" if torch.backends.mps.is_available() else \"inductor\",\n",
    "    }\n",
    ")"
   ],
   "outputs": [],
   "execution_count": 54
  },
  {
   "metadata": {
    "ExecuteTime": {
     "end_time": "2024-05-02T19:56:19.965576Z",
     "start_time": "2024-05-02T19:55:27.007060Z"
    }
   },
   "cell_type": "code",
   "source": [
    "%%time\n",
    "\n",
    "# pl_trainer_kwargs[\"callbacks\"] = [\n",
    "#     EarlyStopping(\n",
    "#         **early_stopping_args,\n",
    "#     )\n",
    "# ]\n",
    "\n",
    "model_tide_compiled.fit(\n",
    "    series=train,\n",
    "    val_series=val,\n",
    "    verbose=True,\n",
    ")"
   ],
   "outputs": [
    {
     "data": {
      "text/plain": [
       "Sanity Checking: |          | 0/? [00:00<?, ?it/s]"
      ],
      "application/vnd.jupyter.widget-view+json": {
       "version_major": 2,
       "version_minor": 0,
       "model_id": "cb777fd399aa4046bb8d039113cd5b23"
      }
     },
     "metadata": {},
     "output_type": "display_data"
    },
    {
     "data": {
      "text/plain": [
       "Training: |          | 0/? [00:00<?, ?it/s]"
      ],
      "application/vnd.jupyter.widget-view+json": {
       "version_major": 2,
       "version_minor": 0,
       "model_id": "c4a7e26b319b4649acf0b7a329513f8a"
      }
     },
     "metadata": {},
     "output_type": "display_data"
    },
    {
     "data": {
      "text/plain": [
       "Validation: |          | 0/? [00:00<?, ?it/s]"
      ],
      "application/vnd.jupyter.widget-view+json": {
       "version_major": 2,
       "version_minor": 0,
       "model_id": "1a726529e0604df68f196903672815f0"
      }
     },
     "metadata": {},
     "output_type": "display_data"
    },
    {
     "data": {
      "text/plain": [
       "Validation: |          | 0/? [00:00<?, ?it/s]"
      ],
      "application/vnd.jupyter.widget-view+json": {
       "version_major": 2,
       "version_minor": 0,
       "model_id": "c0617c0faaa448d2b4a1e8b06d4413c4"
      }
     },
     "metadata": {},
     "output_type": "display_data"
    },
    {
     "data": {
      "text/plain": [
       "Validation: |          | 0/? [00:00<?, ?it/s]"
      ],
      "application/vnd.jupyter.widget-view+json": {
       "version_major": 2,
       "version_minor": 0,
       "model_id": "906782554fa34d1eac96905d8d88bce8"
      }
     },
     "metadata": {},
     "output_type": "display_data"
    },
    {
     "data": {
      "text/plain": [
       "Validation: |          | 0/? [00:00<?, ?it/s]"
      ],
      "application/vnd.jupyter.widget-view+json": {
       "version_major": 2,
       "version_minor": 0,
       "model_id": "31485f98681144fda20c7622db4d27f3"
      }
     },
     "metadata": {},
     "output_type": "display_data"
    },
    {
     "data": {
      "text/plain": [
       "Validation: |          | 0/? [00:00<?, ?it/s]"
      ],
      "application/vnd.jupyter.widget-view+json": {
       "version_major": 2,
       "version_minor": 0,
       "model_id": "6e22ecb2b5b94598a0b21ed4408c86b4"
      }
     },
     "metadata": {},
     "output_type": "display_data"
    },
    {
     "data": {
      "text/plain": [
       "Validation: |          | 0/? [00:00<?, ?it/s]"
      ],
      "application/vnd.jupyter.widget-view+json": {
       "version_major": 2,
       "version_minor": 0,
       "model_id": "668d7f4c7619473aad8344779e0f7206"
      }
     },
     "metadata": {},
     "output_type": "display_data"
    },
    {
     "data": {
      "text/plain": [
       "Validation: |          | 0/? [00:00<?, ?it/s]"
      ],
      "application/vnd.jupyter.widget-view+json": {
       "version_major": 2,
       "version_minor": 0,
       "model_id": "a28e7dccb2f345c694c53a7ad5508448"
      }
     },
     "metadata": {},
     "output_type": "display_data"
    },
    {
     "data": {
      "text/plain": [
       "Validation: |          | 0/? [00:00<?, ?it/s]"
      ],
      "application/vnd.jupyter.widget-view+json": {
       "version_major": 2,
       "version_minor": 0,
       "model_id": "6cfdc253f44d4eaf91b53f7ef6ed4b24"
      }
     },
     "metadata": {},
     "output_type": "display_data"
    },
    {
     "data": {
      "text/plain": [
       "Validation: |          | 0/? [00:00<?, ?it/s]"
      ],
      "application/vnd.jupyter.widget-view+json": {
       "version_major": 2,
       "version_minor": 0,
       "model_id": "c07d65a012d14b71a93e6d730f3beba5"
      }
     },
     "metadata": {},
     "output_type": "display_data"
    },
    {
     "data": {
      "text/plain": [
       "Validation: |          | 0/? [00:00<?, ?it/s]"
      ],
      "application/vnd.jupyter.widget-view+json": {
       "version_major": 2,
       "version_minor": 0,
       "model_id": "402e0e37e4d94560a0029030c02543e1"
      }
     },
     "metadata": {},
     "output_type": "display_data"
    },
    {
     "name": "stdout",
     "output_type": "stream",
     "text": [
      "CPU times: user 22 s, sys: 5.91 s, total: 27.9 s\n",
      "Wall time: 52.9 s\n"
     ]
    },
    {
     "data": {
      "text/plain": [
       "TiDEModel(output_chunk_shift=0, num_encoder_layers=8, num_decoder_layers=8, decoder_output_dim=64, hidden_size=1024, temporal_width_past=4, temporal_width_future=4, temporal_decoder_hidden=32, use_layer_norm=False, dropout=0.1, use_static_covariates=True, compile_model=True, compile_model_kwargs={'backend': 'aot_eager'}, input_chunk_length=12, output_chunk_length=12, optimizer_kwargs={'lr': 0.001}, pl_trainer_kwargs={'gradient_clip_val': 1, 'max_epochs': 10, 'accelerator': 'auto', 'callbacks': [], 'precision': '32-true'}, lr_scheduler_cls=<class 'torch.optim.lr_scheduler.ExponentialLR'>, lr_scheduler_kwargs={'gamma': 0.999}, likelihood=None, save_checkpoints=True, force_reset=True, batch_size=8, random_state=42, use_reversible_instance_norm=True, model_name=tide_compiled)"
      ]
     },
     "execution_count": 55,
     "metadata": {},
     "output_type": "execute_result"
    }
   ],
   "execution_count": 55
  },
  {
   "metadata": {
    "ExecuteTime": {
     "end_time": "2024-05-02T19:56:21.381113Z",
     "start_time": "2024-05-02T19:56:21.133889Z"
    }
   },
   "cell_type": "code",
   "source": [
    "model_tide_not_compiled = TiDEModel(\n",
    "    **common_model_args,\n",
    "    use_reversible_instance_norm=True,\n",
    "    model_name=\"tide_not_compiled\",\n",
    "    compile_model=False,\n",
    ")"
   ],
   "outputs": [],
   "execution_count": 56
  },
  {
   "metadata": {
    "ExecuteTime": {
     "end_time": "2024-05-02T19:57:06.088805Z",
     "start_time": "2024-05-02T19:56:22.079532Z"
    }
   },
   "cell_type": "code",
   "source": [
    "%%time\n",
    "\n",
    "# pl_trainer_kwargs[\"callbacks\"] = [\n",
    "#     EarlyStopping(\n",
    "#         **early_stopping_args,\n",
    "#     )\n",
    "# ]\n",
    "\n",
    "model_tide_not_compiled.fit(\n",
    "    series=train,\n",
    "    val_series=val,\n",
    "    verbose=True,\n",
    ")"
   ],
   "outputs": [
    {
     "data": {
      "text/plain": [
       "Sanity Checking: |          | 0/? [00:00<?, ?it/s]"
      ],
      "application/vnd.jupyter.widget-view+json": {
       "version_major": 2,
       "version_minor": 0,
       "model_id": "86700b216d55476dbea6c8e526bbfc60"
      }
     },
     "metadata": {},
     "output_type": "display_data"
    },
    {
     "data": {
      "text/plain": [
       "Training: |          | 0/? [00:00<?, ?it/s]"
      ],
      "application/vnd.jupyter.widget-view+json": {
       "version_major": 2,
       "version_minor": 0,
       "model_id": "85b5a93641e1488abb136a5bc4e7e6fd"
      }
     },
     "metadata": {},
     "output_type": "display_data"
    },
    {
     "data": {
      "text/plain": [
       "Validation: |          | 0/? [00:00<?, ?it/s]"
      ],
      "application/vnd.jupyter.widget-view+json": {
       "version_major": 2,
       "version_minor": 0,
       "model_id": "7968a591fcce4914aba45224d9fbc484"
      }
     },
     "metadata": {},
     "output_type": "display_data"
    },
    {
     "data": {
      "text/plain": [
       "Validation: |          | 0/? [00:00<?, ?it/s]"
      ],
      "application/vnd.jupyter.widget-view+json": {
       "version_major": 2,
       "version_minor": 0,
       "model_id": "a0d478d3e703406fa50afcc0b079f4a1"
      }
     },
     "metadata": {},
     "output_type": "display_data"
    },
    {
     "data": {
      "text/plain": [
       "Validation: |          | 0/? [00:00<?, ?it/s]"
      ],
      "application/vnd.jupyter.widget-view+json": {
       "version_major": 2,
       "version_minor": 0,
       "model_id": "de118620006a471990050780edfdbd3b"
      }
     },
     "metadata": {},
     "output_type": "display_data"
    },
    {
     "data": {
      "text/plain": [
       "Validation: |          | 0/? [00:00<?, ?it/s]"
      ],
      "application/vnd.jupyter.widget-view+json": {
       "version_major": 2,
       "version_minor": 0,
       "model_id": "73eb8dd51f9b40c1bc9685fc3b512e4d"
      }
     },
     "metadata": {},
     "output_type": "display_data"
    },
    {
     "data": {
      "text/plain": [
       "Validation: |          | 0/? [00:00<?, ?it/s]"
      ],
      "application/vnd.jupyter.widget-view+json": {
       "version_major": 2,
       "version_minor": 0,
       "model_id": "4e474ec75f2a4617b8788d95ee7865e8"
      }
     },
     "metadata": {},
     "output_type": "display_data"
    },
    {
     "data": {
      "text/plain": [
       "Validation: |          | 0/? [00:00<?, ?it/s]"
      ],
      "application/vnd.jupyter.widget-view+json": {
       "version_major": 2,
       "version_minor": 0,
       "model_id": "c8b46bd72f3c4281ba305470d3d80c58"
      }
     },
     "metadata": {},
     "output_type": "display_data"
    },
    {
     "data": {
      "text/plain": [
       "Validation: |          | 0/? [00:00<?, ?it/s]"
      ],
      "application/vnd.jupyter.widget-view+json": {
       "version_major": 2,
       "version_minor": 0,
       "model_id": "606228fd1c484cb7affb2ef8bb3886c7"
      }
     },
     "metadata": {},
     "output_type": "display_data"
    },
    {
     "data": {
      "text/plain": [
       "Validation: |          | 0/? [00:00<?, ?it/s]"
      ],
      "application/vnd.jupyter.widget-view+json": {
       "version_major": 2,
       "version_minor": 0,
       "model_id": "94c4b88b10e6405ab5ce753dd4fd4239"
      }
     },
     "metadata": {},
     "output_type": "display_data"
    },
    {
     "data": {
      "text/plain": [
       "Validation: |          | 0/? [00:00<?, ?it/s]"
      ],
      "application/vnd.jupyter.widget-view+json": {
       "version_major": 2,
       "version_minor": 0,
       "model_id": "919fb6bf41184b3480a3fcfef805716f"
      }
     },
     "metadata": {},
     "output_type": "display_data"
    },
    {
     "data": {
      "text/plain": [
       "Validation: |          | 0/? [00:00<?, ?it/s]"
      ],
      "application/vnd.jupyter.widget-view+json": {
       "version_major": 2,
       "version_minor": 0,
       "model_id": "7ad504ed4bdd43ee862638c0cdbb377b"
      }
     },
     "metadata": {},
     "output_type": "display_data"
    },
    {
     "name": "stdout",
     "output_type": "stream",
     "text": [
      "CPU times: user 20.4 s, sys: 5.59 s, total: 26 s\n",
      "Wall time: 44 s\n"
     ]
    },
    {
     "data": {
      "text/plain": [
       "TiDEModel(output_chunk_shift=0, num_encoder_layers=8, num_decoder_layers=8, decoder_output_dim=64, hidden_size=1024, temporal_width_past=4, temporal_width_future=4, temporal_decoder_hidden=32, use_layer_norm=False, dropout=0.1, use_static_covariates=True, compile_model=False, compile_model_kwargs=None, input_chunk_length=12, output_chunk_length=12, optimizer_kwargs={'lr': 0.001}, pl_trainer_kwargs={'gradient_clip_val': 1, 'max_epochs': 10, 'accelerator': 'auto', 'callbacks': [], 'precision': '32-true'}, lr_scheduler_cls=<class 'torch.optim.lr_scheduler.ExponentialLR'>, lr_scheduler_kwargs={'gamma': 0.999}, likelihood=None, save_checkpoints=True, force_reset=True, batch_size=8, random_state=42, use_reversible_instance_norm=True, model_name=tide_not_compiled)"
      ]
     },
     "execution_count": 57,
     "metadata": {},
     "output_type": "execute_result"
    }
   ],
   "execution_count": 57
  },
  {
   "metadata": {},
   "cell_type": "code",
   "source": [
    "pred_steps = common_model_args[\"output_chunk_length\"] * 2\n",
    "pred_input = test[:-pred_steps]\n",
    "pred_input = pred_input.astype(np.float32)\n",
    "pred_series = model_tide.predict(n=pred_steps, series=pred_input)"
   ],
   "outputs": [],
   "execution_count": null
  },
  {
   "metadata": {},
   "cell_type": "code",
   "source": [
    "pred_series.plot(label=\"predicted\")\n",
    "pred_input.plot(label=\"input\")\n",
    "test[-pred_steps:].plot(label=\"ground truth\")"
   ],
   "outputs": [],
   "execution_count": null
  },
  {
   "metadata": {},
   "cell_type": "code",
   "source": [
    "print(\"mae\", mae(test, pred_series))\n",
    "print(\"mse\", mse(test, pred_series))"
   ],
   "outputs": [],
   "execution_count": null
  },
  {
   "metadata": {},
   "cell_type": "code",
   "source": "",
   "outputs": [],
   "execution_count": null
  }
 ],
 "metadata": {
  "kernelspec": {
   "display_name": "Python 3 (ipykernel)",
   "language": "python",
   "name": "python3"
  },
  "language_info": {
   "codemirror_mode": {
    "name": "ipython",
    "version": 3
   },
   "file_extension": ".py",
   "mimetype": "text/x-python",
   "name": "python",
   "nbconvert_exporter": "python",
   "pygments_lexer": "ipython3",
   "version": "3.10.11"
  }
 },
 "nbformat": 4,
 "nbformat_minor": 4
}
